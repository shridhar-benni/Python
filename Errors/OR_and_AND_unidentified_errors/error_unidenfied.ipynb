{
 "cells": [
  {
   "cell_type": "code",
   "execution_count": 48,
   "id": "82c07b13-a2a3-402d-ac2d-626824fe4951",
   "metadata": {},
   "outputs": [],
   "source": [
    "def error_or():\n",
    "    if True or error:\n",
    "        print(\"Error not detectec in OR conditon. \\nExecuting operations under if conditon\")\n",
    "    else :\n",
    "        print(\"Error not detectec in AND conditon. \\nExecuting operations under else conditon\")"
   ]
  },
  {
   "cell_type": "code",
   "execution_count": 49,
   "id": "a6d613d8-c5fc-4be5-9928-23567b1abddf",
   "metadata": {},
   "outputs": [
    {
     "name": "stdout",
     "output_type": "stream",
     "text": [
      "Error not detectec in OR conditon. \n",
      "Executing operations under if conditon\n"
     ]
    }
   ],
   "source": [
    "error_or()"
   ]
  },
  {
   "cell_type": "code",
   "execution_count": 40,
   "id": "ef044e9d-04f1-4b52-be48-6afc1327115e",
   "metadata": {},
   "outputs": [],
   "source": [
    "def error_and():\n",
    "    if False and error:\n",
    "        print(\"Error not detectec in OR conditon. \\nExecuting operations under if conditon\")\n",
    "    else :\n",
    "        print(\"Error not detectec in AND conditon. \\nExecuting operations under else conditon\")"
   ]
  },
  {
   "cell_type": "code",
   "execution_count": 41,
   "id": "dc02c1da-96b6-4434-85d9-fe61b4a0dfce",
   "metadata": {},
   "outputs": [
    {
     "name": "stdout",
     "output_type": "stream",
     "text": [
      "Error not detectec in AND conditon\n"
     ]
    }
   ],
   "source": [
    "error_and()"
   ]
  },
  {
   "cell_type": "markdown",
   "id": "59c2c783-a7f0-4175-88ce-9e7bc00145b9",
   "metadata": {},
   "source": [
    "### Due to typing mistake"
   ]
  },
  {
   "cell_type": "code",
   "execution_count": 53,
   "id": "2387f4d6-e6ed-46fa-9fae-8a5f88c40149",
   "metadata": {},
   "outputs": [],
   "source": [
    "def error_or_typing_mistake(word1, word2, word_to_cmp):\n",
    "    if len(word1) <= len(word_to_cmp) or len(word) <= len(word_to_cmp): # here insted of typing word2 I typed word\n",
    "        print(\"Error not detectec in OR conditon. \\nExecuting operations under if conditon\")\n",
    "    else :\n",
    "        print(\"Error not detectec in AND conditon. \\nExecuting operations under else conditon\")"
   ]
  },
  {
   "cell_type": "code",
   "execution_count": 54,
   "id": "e5b155d3-ef04-4186-9619-85a019c41a87",
   "metadata": {},
   "outputs": [
    {
     "name": "stdout",
     "output_type": "stream",
     "text": [
      "Error not detectec in OR conditon. \n",
      "Executing operations under if conditon\n"
     ]
    }
   ],
   "source": [
    "error_or_typing_mistake(\"word1\", \"word2\", \"word1\")"
   ]
  },
  {
   "cell_type": "code",
   "execution_count": 55,
   "id": "8eb0ef12-64a2-4cb4-b949-4bc985c4a245",
   "metadata": {},
   "outputs": [],
   "source": [
    "def error_and_typing_mistake(word1, word2, word_to_cmp):\n",
    "    if len(word1) <= len(word_to_cmp) and len(word) <= len(word_to_cmp): # here insted of typing word2 I typed word\n",
    "        print(\"Error not detectec in OR conditon. \\nExecuting operations under if conditon\")\n",
    "    else :\n",
    "        print(\"Error not detectec in AND conditon. \\nExecuting operations under else conditon\")"
   ]
  },
  {
   "cell_type": "code",
   "execution_count": 57,
   "id": "b729a7f6-8d69-428b-9033-01decaab3dff",
   "metadata": {},
   "outputs": [
    {
     "name": "stdout",
     "output_type": "stream",
     "text": [
      "Error not detectec in AND conditon. \n",
      "Executing operations under else conditon\n"
     ]
    }
   ],
   "source": [
    "error_and_typing_mistake(\"word1_\", \"word2\", \"word1\")"
   ]
  }
 ],
 "metadata": {
  "kernelspec": {
   "display_name": "Python 3 (ipykernel)",
   "language": "python",
   "name": "python3"
  },
  "language_info": {
   "codemirror_mode": {
    "name": "ipython",
    "version": 3
   },
   "file_extension": ".py",
   "mimetype": "text/x-python",
   "name": "python",
   "nbconvert_exporter": "python",
   "pygments_lexer": "ipython3",
   "version": "3.11.7"
  }
 },
 "nbformat": 4,
 "nbformat_minor": 5
}
